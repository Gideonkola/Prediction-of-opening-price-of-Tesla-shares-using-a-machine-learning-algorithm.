{
 "cells": [
  {
   "cell_type": "code",
   "execution_count": 102,
   "id": "3b523fea",
   "metadata": {},
   "outputs": [],
   "source": [
    "#Installing the libraries to use for the analysis\n",
    "import pandas as pd\n",
    "import numpy as np\n",
    "import matplotlib.pyplot as plt\n",
    "import datasist\n"
   ]
  },
  {
   "cell_type": "code",
   "execution_count": 103,
   "id": "11711ee4",
   "metadata": {},
   "outputs": [],
   "source": [
    "#loading the dataset into the IDE and saving it as df using pandas\n",
    "df=pd.read_csv(\"C:\\\\Users\\\\abegu\\\\Downloads\\\\TSLA.csv\")"
   ]
  },
  {
   "cell_type": "code",
   "execution_count": 104,
   "id": "333b0355",
   "metadata": {},
   "outputs": [
    {
     "data": {
      "text/html": [
       "<div>\n",
       "<style scoped>\n",
       "    .dataframe tbody tr th:only-of-type {\n",
       "        vertical-align: middle;\n",
       "    }\n",
       "\n",
       "    .dataframe tbody tr th {\n",
       "        vertical-align: top;\n",
       "    }\n",
       "\n",
       "    .dataframe thead th {\n",
       "        text-align: right;\n",
       "    }\n",
       "</style>\n",
       "<table border=\"1\" class=\"dataframe\">\n",
       "  <thead>\n",
       "    <tr style=\"text-align: right;\">\n",
       "      <th></th>\n",
       "      <th>Date</th>\n",
       "      <th>Open</th>\n",
       "      <th>High</th>\n",
       "      <th>Low</th>\n",
       "      <th>Close</th>\n",
       "      <th>Adj Close</th>\n",
       "      <th>Volume</th>\n",
       "    </tr>\n",
       "  </thead>\n",
       "  <tbody>\n",
       "    <tr>\n",
       "      <th>0</th>\n",
       "      <td>False</td>\n",
       "      <td>False</td>\n",
       "      <td>False</td>\n",
       "      <td>False</td>\n",
       "      <td>False</td>\n",
       "      <td>False</td>\n",
       "      <td>False</td>\n",
       "    </tr>\n",
       "    <tr>\n",
       "      <th>1</th>\n",
       "      <td>False</td>\n",
       "      <td>False</td>\n",
       "      <td>False</td>\n",
       "      <td>False</td>\n",
       "      <td>False</td>\n",
       "      <td>False</td>\n",
       "      <td>False</td>\n",
       "    </tr>\n",
       "    <tr>\n",
       "      <th>2</th>\n",
       "      <td>False</td>\n",
       "      <td>False</td>\n",
       "      <td>False</td>\n",
       "      <td>False</td>\n",
       "      <td>False</td>\n",
       "      <td>False</td>\n",
       "      <td>False</td>\n",
       "    </tr>\n",
       "    <tr>\n",
       "      <th>3</th>\n",
       "      <td>False</td>\n",
       "      <td>False</td>\n",
       "      <td>False</td>\n",
       "      <td>False</td>\n",
       "      <td>False</td>\n",
       "      <td>False</td>\n",
       "      <td>False</td>\n",
       "    </tr>\n",
       "    <tr>\n",
       "      <th>4</th>\n",
       "      <td>False</td>\n",
       "      <td>False</td>\n",
       "      <td>False</td>\n",
       "      <td>False</td>\n",
       "      <td>False</td>\n",
       "      <td>False</td>\n",
       "      <td>False</td>\n",
       "    </tr>\n",
       "    <tr>\n",
       "      <th>...</th>\n",
       "      <td>...</td>\n",
       "      <td>...</td>\n",
       "      <td>...</td>\n",
       "      <td>...</td>\n",
       "      <td>...</td>\n",
       "      <td>...</td>\n",
       "      <td>...</td>\n",
       "    </tr>\n",
       "    <tr>\n",
       "      <th>3069</th>\n",
       "      <td>False</td>\n",
       "      <td>False</td>\n",
       "      <td>False</td>\n",
       "      <td>False</td>\n",
       "      <td>False</td>\n",
       "      <td>False</td>\n",
       "      <td>False</td>\n",
       "    </tr>\n",
       "    <tr>\n",
       "      <th>3070</th>\n",
       "      <td>False</td>\n",
       "      <td>False</td>\n",
       "      <td>False</td>\n",
       "      <td>False</td>\n",
       "      <td>False</td>\n",
       "      <td>False</td>\n",
       "      <td>False</td>\n",
       "    </tr>\n",
       "    <tr>\n",
       "      <th>3071</th>\n",
       "      <td>False</td>\n",
       "      <td>False</td>\n",
       "      <td>False</td>\n",
       "      <td>False</td>\n",
       "      <td>False</td>\n",
       "      <td>False</td>\n",
       "      <td>False</td>\n",
       "    </tr>\n",
       "    <tr>\n",
       "      <th>3072</th>\n",
       "      <td>False</td>\n",
       "      <td>False</td>\n",
       "      <td>False</td>\n",
       "      <td>False</td>\n",
       "      <td>False</td>\n",
       "      <td>False</td>\n",
       "      <td>False</td>\n",
       "    </tr>\n",
       "    <tr>\n",
       "      <th>3073</th>\n",
       "      <td>False</td>\n",
       "      <td>False</td>\n",
       "      <td>False</td>\n",
       "      <td>False</td>\n",
       "      <td>False</td>\n",
       "      <td>False</td>\n",
       "      <td>False</td>\n",
       "    </tr>\n",
       "  </tbody>\n",
       "</table>\n",
       "<p>3074 rows × 7 columns</p>\n",
       "</div>"
      ],
      "text/plain": [
       "       Date   Open   High    Low  Close  Adj Close  Volume\n",
       "0     False  False  False  False  False      False   False\n",
       "1     False  False  False  False  False      False   False\n",
       "2     False  False  False  False  False      False   False\n",
       "3     False  False  False  False  False      False   False\n",
       "4     False  False  False  False  False      False   False\n",
       "...     ...    ...    ...    ...    ...        ...     ...\n",
       "3069  False  False  False  False  False      False   False\n",
       "3070  False  False  False  False  False      False   False\n",
       "3071  False  False  False  False  False      False   False\n",
       "3072  False  False  False  False  False      False   False\n",
       "3073  False  False  False  False  False      False   False\n",
       "\n",
       "[3074 rows x 7 columns]"
      ]
     },
     "execution_count": 104,
     "metadata": {},
     "output_type": "execute_result"
    }
   ],
   "source": [
    "#check if there are missing values\n",
    "df.isna()"
   ]
  },
  {
   "cell_type": "code",
   "execution_count": 106,
   "id": "681c0607",
   "metadata": {},
   "outputs": [
    {
     "data": {
      "text/html": [
       "<div>\n",
       "<style scoped>\n",
       "    .dataframe tbody tr th:only-of-type {\n",
       "        vertical-align: middle;\n",
       "    }\n",
       "\n",
       "    .dataframe tbody tr th {\n",
       "        vertical-align: top;\n",
       "    }\n",
       "\n",
       "    .dataframe thead th {\n",
       "        text-align: right;\n",
       "    }\n",
       "</style>\n",
       "<table border=\"1\" class=\"dataframe\">\n",
       "  <thead>\n",
       "    <tr style=\"text-align: right;\">\n",
       "      <th></th>\n",
       "      <th>Date</th>\n",
       "      <th>Open</th>\n",
       "      <th>High</th>\n",
       "      <th>Low</th>\n",
       "      <th>Close</th>\n",
       "      <th>Adj Close</th>\n",
       "      <th>Volume</th>\n",
       "    </tr>\n",
       "  </thead>\n",
       "  <tbody>\n",
       "    <tr>\n",
       "      <th>0</th>\n",
       "      <td>2010-08-02</td>\n",
       "      <td>1.366667</td>\n",
       "      <td>1.398000</td>\n",
       "      <td>1.355333</td>\n",
       "      <td>1.394667</td>\n",
       "      <td>1.394667</td>\n",
       "      <td>10771500</td>\n",
       "    </tr>\n",
       "    <tr>\n",
       "      <th>1</th>\n",
       "      <td>2010-08-03</td>\n",
       "      <td>1.400000</td>\n",
       "      <td>1.463333</td>\n",
       "      <td>1.388000</td>\n",
       "      <td>1.463333</td>\n",
       "      <td>1.463333</td>\n",
       "      <td>18457500</td>\n",
       "    </tr>\n",
       "    <tr>\n",
       "      <th>2</th>\n",
       "      <td>2010-08-04</td>\n",
       "      <td>1.463333</td>\n",
       "      <td>1.478667</td>\n",
       "      <td>1.390000</td>\n",
       "      <td>1.417333</td>\n",
       "      <td>1.417333</td>\n",
       "      <td>13695000</td>\n",
       "    </tr>\n",
       "    <tr>\n",
       "      <th>3</th>\n",
       "      <td>2010-08-05</td>\n",
       "      <td>1.436000</td>\n",
       "      <td>1.436667</td>\n",
       "      <td>1.336667</td>\n",
       "      <td>1.363333</td>\n",
       "      <td>1.363333</td>\n",
       "      <td>11943000</td>\n",
       "    </tr>\n",
       "    <tr>\n",
       "      <th>4</th>\n",
       "      <td>2010-08-06</td>\n",
       "      <td>1.340000</td>\n",
       "      <td>1.344000</td>\n",
       "      <td>1.301333</td>\n",
       "      <td>1.306000</td>\n",
       "      <td>1.306000</td>\n",
       "      <td>11128500</td>\n",
       "    </tr>\n",
       "  </tbody>\n",
       "</table>\n",
       "</div>"
      ],
      "text/plain": [
       "         Date      Open      High       Low     Close  Adj Close    Volume\n",
       "0  2010-08-02  1.366667  1.398000  1.355333  1.394667   1.394667  10771500\n",
       "1  2010-08-03  1.400000  1.463333  1.388000  1.463333   1.463333  18457500\n",
       "2  2010-08-04  1.463333  1.478667  1.390000  1.417333   1.417333  13695000\n",
       "3  2010-08-05  1.436000  1.436667  1.336667  1.363333   1.363333  11943000\n",
       "4  2010-08-06  1.340000  1.344000  1.301333  1.306000   1.306000  11128500"
      ]
     },
     "execution_count": 106,
     "metadata": {},
     "output_type": "execute_result"
    }
   ],
   "source": [
    "#having a look at the first five rows of the data to have an insight into what it looks like\n",
    "df.head()"
   ]
  },
  {
   "cell_type": "code",
   "execution_count": 107,
   "id": "bdc0e9af",
   "metadata": {},
   "outputs": [],
   "source": [
    "#converting date into year\n",
    "df['year'] = pd.DatetimeIndex(df['Date']).year"
   ]
  },
  {
   "cell_type": "code",
   "execution_count": 108,
   "id": "00ec2f3e",
   "metadata": {},
   "outputs": [],
   "source": [
    "#using the iloc function to remove date from the vvariables since we have converted date to year\n",
    "df2=df.iloc[:,1:8]"
   ]
  },
  {
   "cell_type": "code",
   "execution_count": 110,
   "id": "08872bae",
   "metadata": {},
   "outputs": [
    {
     "data": {
      "text/html": [
       "<div>\n",
       "<style scoped>\n",
       "    .dataframe tbody tr th:only-of-type {\n",
       "        vertical-align: middle;\n",
       "    }\n",
       "\n",
       "    .dataframe tbody tr th {\n",
       "        vertical-align: top;\n",
       "    }\n",
       "\n",
       "    .dataframe thead th {\n",
       "        text-align: right;\n",
       "    }\n",
       "</style>\n",
       "<table border=\"1\" class=\"dataframe\">\n",
       "  <thead>\n",
       "    <tr style=\"text-align: right;\">\n",
       "      <th></th>\n",
       "      <th>Open</th>\n",
       "      <th>High</th>\n",
       "      <th>Low</th>\n",
       "      <th>Close</th>\n",
       "      <th>Adj Close</th>\n",
       "      <th>Volume</th>\n",
       "      <th>year</th>\n",
       "    </tr>\n",
       "  </thead>\n",
       "  <tbody>\n",
       "    <tr>\n",
       "      <th>count</th>\n",
       "      <td>3074.000000</td>\n",
       "      <td>3074.000000</td>\n",
       "      <td>3074.000000</td>\n",
       "      <td>3074.000000</td>\n",
       "      <td>3074.000000</td>\n",
       "      <td>3.074000e+03</td>\n",
       "      <td>3074.000000</td>\n",
       "    </tr>\n",
       "    <tr>\n",
       "      <th>mean</th>\n",
       "      <td>57.141219</td>\n",
       "      <td>58.417855</td>\n",
       "      <td>55.749331</td>\n",
       "      <td>57.111818</td>\n",
       "      <td>57.111818</td>\n",
       "      <td>9.355913e+07</td>\n",
       "      <td>2016.180547</td>\n",
       "    </tr>\n",
       "    <tr>\n",
       "      <th>std</th>\n",
       "      <td>95.205846</td>\n",
       "      <td>97.392028</td>\n",
       "      <td>92.757684</td>\n",
       "      <td>95.096159</td>\n",
       "      <td>95.096159</td>\n",
       "      <td>8.221465e+07</td>\n",
       "      <td>3.543179</td>\n",
       "    </tr>\n",
       "    <tr>\n",
       "      <th>min</th>\n",
       "      <td>1.186667</td>\n",
       "      <td>1.193333</td>\n",
       "      <td>1.159333</td>\n",
       "      <td>1.173333</td>\n",
       "      <td>1.173333</td>\n",
       "      <td>1.777500e+06</td>\n",
       "      <td>2010.000000</td>\n",
       "    </tr>\n",
       "    <tr>\n",
       "      <th>25%</th>\n",
       "      <td>9.096167</td>\n",
       "      <td>9.363333</td>\n",
       "      <td>8.858333</td>\n",
       "      <td>9.161333</td>\n",
       "      <td>9.161333</td>\n",
       "      <td>4.204950e+07</td>\n",
       "      <td>2013.000000</td>\n",
       "    </tr>\n",
       "    <tr>\n",
       "      <th>50%</th>\n",
       "      <td>16.135333</td>\n",
       "      <td>16.394668</td>\n",
       "      <td>15.811000</td>\n",
       "      <td>16.137000</td>\n",
       "      <td>16.137000</td>\n",
       "      <td>7.554450e+07</td>\n",
       "      <td>2016.000000</td>\n",
       "    </tr>\n",
       "    <tr>\n",
       "      <th>75%</th>\n",
       "      <td>23.798501</td>\n",
       "      <td>24.240500</td>\n",
       "      <td>23.437833</td>\n",
       "      <td>23.784167</td>\n",
       "      <td>23.784167</td>\n",
       "      <td>1.172816e+08</td>\n",
       "      <td>2019.000000</td>\n",
       "    </tr>\n",
       "    <tr>\n",
       "      <th>max</th>\n",
       "      <td>411.470001</td>\n",
       "      <td>414.496674</td>\n",
       "      <td>405.666656</td>\n",
       "      <td>409.970001</td>\n",
       "      <td>409.970001</td>\n",
       "      <td>9.140820e+08</td>\n",
       "      <td>2022.000000</td>\n",
       "    </tr>\n",
       "  </tbody>\n",
       "</table>\n",
       "</div>"
      ],
      "text/plain": [
       "              Open         High          Low        Close    Adj Close  \\\n",
       "count  3074.000000  3074.000000  3074.000000  3074.000000  3074.000000   \n",
       "mean     57.141219    58.417855    55.749331    57.111818    57.111818   \n",
       "std      95.205846    97.392028    92.757684    95.096159    95.096159   \n",
       "min       1.186667     1.193333     1.159333     1.173333     1.173333   \n",
       "25%       9.096167     9.363333     8.858333     9.161333     9.161333   \n",
       "50%      16.135333    16.394668    15.811000    16.137000    16.137000   \n",
       "75%      23.798501    24.240500    23.437833    23.784167    23.784167   \n",
       "max     411.470001   414.496674   405.666656   409.970001   409.970001   \n",
       "\n",
       "             Volume         year  \n",
       "count  3.074000e+03  3074.000000  \n",
       "mean   9.355913e+07  2016.180547  \n",
       "std    8.221465e+07     3.543179  \n",
       "min    1.777500e+06  2010.000000  \n",
       "25%    4.204950e+07  2013.000000  \n",
       "50%    7.554450e+07  2016.000000  \n",
       "75%    1.172816e+08  2019.000000  \n",
       "max    9.140820e+08  2022.000000  "
      ]
     },
     "execution_count": 110,
     "metadata": {},
     "output_type": "execute_result"
    }
   ],
   "source": [
    "#exploratory data analysis is an approach to data analysis which seeks to summarize main characteristics. The first five summary is a major part of exploratory data anlaysis. \n",
    "df2.describe()"
   ]
  },
  {
   "cell_type": "code",
   "execution_count": 111,
   "id": "ef9b4630",
   "metadata": {},
   "outputs": [
    {
     "data": {
      "text/plain": [
       "array([[<AxesSubplot:title={'center':'Open'}>,\n",
       "        <AxesSubplot:title={'center':'High'}>,\n",
       "        <AxesSubplot:title={'center':'Low'}>],\n",
       "       [<AxesSubplot:title={'center':'Close'}>,\n",
       "        <AxesSubplot:title={'center':'Adj Close'}>,\n",
       "        <AxesSubplot:title={'center':'Volume'}>],\n",
       "       [<AxesSubplot:title={'center':'year'}>, <AxesSubplot:>,\n",
       "        <AxesSubplot:>]], dtype=object)"
      ]
     },
     "execution_count": 111,
     "metadata": {},
     "output_type": "execute_result"
    },
    {
     "data": {
      "image/png": "[encoded data removed]",
      "text/plain": [
       "<Figure size 1440x720 with 9 Axes>"
      ]
     },
     "metadata": {
      "needs_background": "light"
     },
     "output_type": "display_data"
    }
   ],
   "source": [
    "#data visualization using a histogram\n",
    "df2.hist(figsize=(20,10))"
   ]
  },
  {
   "cell_type": "code",
   "execution_count": null,
   "id": "6ff8fbdb",
   "metadata": {},
   "outputs": [],
   "source": [
    "#feature engineering\n",
    "#Feature engineering is the process of using domain knowledge to select and transform features from raw data before building a predictive model using machine learning\n",
    "#feature engineering helps with handling missing data, creating new features, one hot encoding, and selecting features for modelling. It also helps to get the best result from an algorithm. "
   ]
  },
  {
   "cell_type": "code",
   "execution_count": 112,
   "id": "d3fc6d89",
   "metadata": {},
   "outputs": [
    {
     "data": {
      "text/html": [
       "<div>\n",
       "<style scoped>\n",
       "    .dataframe tbody tr th:only-of-type {\n",
       "        vertical-align: middle;\n",
       "    }\n",
       "\n",
       "    .dataframe tbody tr th {\n",
       "        vertical-align: top;\n",
       "    }\n",
       "\n",
       "    .dataframe thead th {\n",
       "        text-align: right;\n",
       "    }\n",
       "</style>\n",
       "<table border=\"1\" class=\"dataframe\">\n",
       "  <thead>\n",
       "    <tr style=\"text-align: right;\">\n",
       "      <th></th>\n",
       "      <th>Open</th>\n",
       "      <th>High</th>\n",
       "      <th>Low</th>\n",
       "      <th>Close</th>\n",
       "      <th>Adj Close</th>\n",
       "      <th>Volume</th>\n",
       "      <th>year</th>\n",
       "    </tr>\n",
       "  </thead>\n",
       "  <tbody>\n",
       "    <tr>\n",
       "      <th>Open</th>\n",
       "      <td>1.000000</td>\n",
       "      <td>0.999733</td>\n",
       "      <td>0.999607</td>\n",
       "      <td>0.999220</td>\n",
       "      <td>0.999220</td>\n",
       "      <td>0.056984</td>\n",
       "      <td>0.714252</td>\n",
       "    </tr>\n",
       "    <tr>\n",
       "      <th>High</th>\n",
       "      <td>0.999733</td>\n",
       "      <td>1.000000</td>\n",
       "      <td>0.999612</td>\n",
       "      <td>0.999645</td>\n",
       "      <td>0.999645</td>\n",
       "      <td>0.060516</td>\n",
       "      <td>0.714423</td>\n",
       "    </tr>\n",
       "    <tr>\n",
       "      <th>Low</th>\n",
       "      <td>0.999607</td>\n",
       "      <td>0.999612</td>\n",
       "      <td>1.000000</td>\n",
       "      <td>0.999683</td>\n",
       "      <td>0.999683</td>\n",
       "      <td>0.053435</td>\n",
       "      <td>0.714344</td>\n",
       "    </tr>\n",
       "    <tr>\n",
       "      <th>Close</th>\n",
       "      <td>0.999220</td>\n",
       "      <td>0.999645</td>\n",
       "      <td>0.999683</td>\n",
       "      <td>1.000000</td>\n",
       "      <td>1.000000</td>\n",
       "      <td>0.057758</td>\n",
       "      <td>0.714403</td>\n",
       "    </tr>\n",
       "    <tr>\n",
       "      <th>Adj Close</th>\n",
       "      <td>0.999220</td>\n",
       "      <td>0.999645</td>\n",
       "      <td>0.999683</td>\n",
       "      <td>1.000000</td>\n",
       "      <td>1.000000</td>\n",
       "      <td>0.057758</td>\n",
       "      <td>0.714403</td>\n",
       "    </tr>\n",
       "    <tr>\n",
       "      <th>Volume</th>\n",
       "      <td>0.056984</td>\n",
       "      <td>0.060516</td>\n",
       "      <td>0.053435</td>\n",
       "      <td>0.057758</td>\n",
       "      <td>0.057758</td>\n",
       "      <td>1.000000</td>\n",
       "      <td>0.394567</td>\n",
       "    </tr>\n",
       "    <tr>\n",
       "      <th>year</th>\n",
       "      <td>0.714252</td>\n",
       "      <td>0.714423</td>\n",
       "      <td>0.714344</td>\n",
       "      <td>0.714403</td>\n",
       "      <td>0.714403</td>\n",
       "      <td>0.394567</td>\n",
       "      <td>1.000000</td>\n",
       "    </tr>\n",
       "  </tbody>\n",
       "</table>\n",
       "</div>"
      ],
      "text/plain": [
       "               Open      High       Low     Close  Adj Close    Volume  \\\n",
       "Open       1.000000  0.999733  0.999607  0.999220   0.999220  0.056984   \n",
       "High       0.999733  1.000000  0.999612  0.999645   0.999645  0.060516   \n",
       "Low        0.999607  0.999612  1.000000  0.999683   0.999683  0.053435   \n",
       "Close      0.999220  0.999645  0.999683  1.000000   1.000000  0.057758   \n",
       "Adj Close  0.999220  0.999645  0.999683  1.000000   1.000000  0.057758   \n",
       "Volume     0.056984  0.060516  0.053435  0.057758   0.057758  1.000000   \n",
       "year       0.714252  0.714423  0.714344  0.714403   0.714403  0.394567   \n",
       "\n",
       "               year  \n",
       "Open       0.714252  \n",
       "High       0.714423  \n",
       "Low        0.714344  \n",
       "Close      0.714403  \n",
       "Adj Close  0.714403  \n",
       "Volume     0.394567  \n",
       "year       1.000000  "
      ]
     },
     "execution_count": 112,
     "metadata": {},
     "output_type": "execute_result"
    }
   ],
   "source": [
    "#to check the correlation between variables \n",
    "df2.corr()"
   ]
  },
  {
   "cell_type": "code",
   "execution_count": 113,
   "id": "205b713c",
   "metadata": {},
   "outputs": [
    {
     "data": {
      "text/plain": [
       "Index(['Open', 'High', 'Low', 'Close', 'Adj Close', 'Volume', 'year'], dtype='object')"
      ]
     },
     "execution_count": 113,
     "metadata": {},
     "output_type": "execute_result"
    }
   ],
   "source": [
    "#modelling\n",
    "df2.columns"
   ]
  },
  {
   "cell_type": "code",
   "execution_count": 114,
   "id": "f842bbe1",
   "metadata": {},
   "outputs": [],
   "source": [
    "#separating the variables into X and y which are the independent and the dependent variable\n",
    "X=df2.drop('Open',axis=1)\n",
    "y=df2.Open"
   ]
  },
  {
   "cell_type": "code",
   "execution_count": 115,
   "id": "a6b5419b",
   "metadata": {},
   "outputs": [],
   "source": [
    "#importing the library to split the variable into train and test set\n",
    "from sklearn.model_selection import train_test_split"
   ]
  },
  {
   "cell_type": "code",
   "execution_count": 116,
   "id": "c023eed7",
   "metadata": {},
   "outputs": [],
   "source": [
    "#splitting the variable into train and test set\n",
    "X_train,X_test,y_train,y_test=train_test_split(X,y,test_size=0.3,random_state=42)"
   ]
  },
  {
   "cell_type": "code",
   "execution_count": 117,
   "id": "999192f4",
   "metadata": {},
   "outputs": [],
   "source": [
    "#importing the library for the prediction algorithm\n",
    "from sklearn.ensemble import RandomForestRegressor"
   ]
  },
  {
   "cell_type": "code",
   "execution_count": 118,
   "id": "8e2c9393",
   "metadata": {},
   "outputs": [
    {
     "data": {
      "text/plain": [
       "RandomForestRegressor()"
      ]
     },
     "execution_count": 118,
     "metadata": {},
     "output_type": "execute_result"
    }
   ],
   "source": [
    "#fitting the model into the algorithm\n",
    "model=RandomForestRegressor()\n",
    "model.fit(X_train,y_train)"
   ]
  },
  {
   "cell_type": "code",
   "execution_count": 119,
   "id": "8588e900",
   "metadata": {},
   "outputs": [],
   "source": [
    "predictions=model.predict(X_test)"
   ]
  },
  {
   "cell_type": "code",
   "execution_count": 120,
   "id": "95204af3",
   "metadata": {},
   "outputs": [
    {
     "data": {
      "text/html": [
       "<div>\n",
       "<style scoped>\n",
       "    .dataframe tbody tr th:only-of-type {\n",
       "        vertical-align: middle;\n",
       "    }\n",
       "\n",
       "    .dataframe tbody tr th {\n",
       "        vertical-align: top;\n",
       "    }\n",
       "\n",
       "    .dataframe thead th {\n",
       "        text-align: right;\n",
       "    }\n",
       "</style>\n",
       "<table border=\"1\" class=\"dataframe\">\n",
       "  <thead>\n",
       "    <tr style=\"text-align: right;\">\n",
       "      <th></th>\n",
       "      <th>Actual value</th>\n",
       "      <th>Predicted value</th>\n",
       "    </tr>\n",
       "  </thead>\n",
       "  <tbody>\n",
       "    <tr>\n",
       "      <th>2698</th>\n",
       "      <td>234.923340</td>\n",
       "      <td>239.605700</td>\n",
       "    </tr>\n",
       "    <tr>\n",
       "      <th>2045</th>\n",
       "      <td>19.250668</td>\n",
       "      <td>19.436613</td>\n",
       "    </tr>\n",
       "    <tr>\n",
       "      <th>2530</th>\n",
       "      <td>124.333336</td>\n",
       "      <td>126.444187</td>\n",
       "    </tr>\n",
       "    <tr>\n",
       "      <th>194</th>\n",
       "      <td>1.800000</td>\n",
       "      <td>1.825140</td>\n",
       "    </tr>\n",
       "    <tr>\n",
       "      <th>240</th>\n",
       "      <td>1.902000</td>\n",
       "      <td>1.900460</td>\n",
       "    </tr>\n",
       "  </tbody>\n",
       "</table>\n",
       "</div>"
      ],
      "text/plain": [
       "      Actual value  Predicted value\n",
       "2698    234.923340       239.605700\n",
       "2045     19.250668        19.436613\n",
       "2530    124.333336       126.444187\n",
       "194       1.800000         1.825140\n",
       "240       1.902000         1.900460"
      ]
     },
     "execution_count": 120,
     "metadata": {},
     "output_type": "execute_result"
    }
   ],
   "source": [
    "random_forest = pd.DataFrame({'Actual value': y_test, 'Predicted value': predictions})\n",
    "random_forest.head()"
   ]
  },
  {
   "cell_type": "code",
   "execution_count": 121,
   "id": "3fce37d6",
   "metadata": {},
   "outputs": [
    {
     "name": "stdout",
     "output_type": "stream",
     "text": [
      "RMSE: 2.247343947607412\n"
     ]
    }
   ],
   "source": [
    "from sklearn import metrics\n",
    "import numpy as np\n",
    "print('RMSE:',np.sqrt(metrics.mean_squared_error(y_test,predictions)))"
   ]
  },
  {
   "cell_type": "code",
   "execution_count": 33,
   "id": "7b1c635d",
   "metadata": {},
   "outputs": [],
   "source": [
    "import pickle"
   ]
  },
  {
   "cell_type": "code",
   "execution_count": 34,
   "id": "3832f571",
   "metadata": {},
   "outputs": [],
   "source": [
    "file=open('random_forest_model.pkl','wb')\n",
    "pickle.dump(model,file)"
   ]
  },
  {
   "cell_type": "code",
   "execution_count": 123,
   "id": "df594c4b",
   "metadata": {},
   "outputs": [
    {
     "data": {
      "image/png": "[encoded data removed]",
      "text/plain": [
       "<Figure size 1440x360 with 1 Axes>"
      ]
     },
     "metadata": {
      "needs_background": "light"
     },
     "output_type": "display_data"
    }
   ],
   "source": [
    "feat_importances=pd.Series(model.feature_importances_,index=X_train.columns)\n",
    "feat_importances.nlargest(5).plot(kind='barh',figsize=(20,5))\n",
    "plt.show()"
   ]
  },
  {
   "cell_type": "code",
   "execution_count": null,
   "id": "70b8a58f",
   "metadata": {},
   "outputs": [],
   "source": [
    "#findings\n",
    "#from the visualization above, it cdan be seen that close, Adj Close, High, Low are good predictors in the model and they have influence on it. "
   ]
  }
 ],
 "metadata": {
  "kernelspec": {
   "display_name": "Python 3 (ipykernel)",
   "language": "python",
   "name": "python3"
  },
  "language_info": {
   "codemirror_mode": {
    "name": "ipython",
    "version": 3
   },
   "file_extension": ".py",
   "mimetype": "text/x-python",
   "name": "python",
   "nbconvert_exporter": "python",
   "pygments_lexer": "ipython3",
   "version": "3.9.12"
  }
 },
 "nbformat": 4,
 "nbformat_minor": 5
}
